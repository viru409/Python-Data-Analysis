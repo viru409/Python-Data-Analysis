{
 "cells": [
  {
   "cell_type": "markdown",
   "id": "ae177fac",
   "metadata": {},
   "source": [
    "### Numpy designed for working with Homogeneous numerical array data."
   ]
  },
  {
   "cell_type": "code",
   "execution_count": 2,
   "id": "92e3cc9e",
   "metadata": {},
   "outputs": [],
   "source": [
    "import numpy as np"
   ]
  },
  {
   "cell_type": "code",
   "execution_count": 3,
   "id": "0ca028bf",
   "metadata": {},
   "outputs": [
    {
     "ename": "NameError",
     "evalue": "name 'numpy' is not defined",
     "output_type": "error",
     "traceback": [
      "\u001b[1;31m---------------------------------------------------------------------------\u001b[0m",
      "\u001b[1;31mNameError\u001b[0m                                 Traceback (most recent call last)",
      "\u001b[1;32m<ipython-input-3-fb7ec2e709c6>\u001b[0m in \u001b[0;36m<module>\u001b[1;34m\u001b[0m\n\u001b[1;32m----> 1\u001b[1;33m \u001b[0mnumpy\u001b[0m\u001b[1;33m.\u001b[0m\u001b[0m__version__\u001b[0m\u001b[1;33m\u001b[0m\u001b[1;33m\u001b[0m\u001b[0m\n\u001b[0m",
      "\u001b[1;31mNameError\u001b[0m: name 'numpy' is not defined"
     ]
    }
   ],
   "source": [
    "numpy.__version__"
   ]
  },
  {
   "cell_type": "code",
   "execution_count": 8,
   "id": "9f6248a1",
   "metadata": {},
   "outputs": [
    {
     "name": "stdout",
     "output_type": "stream",
     "text": [
      "0\n",
      "1\n",
      "2\n",
      "3\n",
      "4\n",
      "5\n",
      "6\n",
      "7\n",
      "8\n",
      "9\n"
     ]
    }
   ],
   "source": [
    "result = 0\n",
    "for i in range(10):\n",
    "    result += i\n",
    "    print(i)"
   ]
  },
  {
   "cell_type": "code",
   "execution_count": 9,
   "id": "aea16908",
   "metadata": {},
   "outputs": [
    {
     "data": {
      "text/plain": [
       "array([    0,     1,     2, ..., 99997, 99998, 99999])"
      ]
     },
     "execution_count": 9,
     "metadata": {},
     "output_type": "execute_result"
    }
   ],
   "source": [
    "arr = np.arange(100000)\n",
    "arr"
   ]
  },
  {
   "cell_type": "code",
   "execution_count": 20,
   "id": "3a35a891",
   "metadata": {},
   "outputs": [
    {
     "name": "stdout",
     "output_type": "stream",
     "text": [
      "[[ 0.37922634  0.18695183  2.25402785]\n",
      " [ 0.775845    0.26779571 -2.212396  ]]\n"
     ]
    },
    {
     "data": {
      "text/plain": [
       "array([[  3.7922634 ,   1.86951827,  22.54027845],\n",
       "       [  7.75845005,   2.67795712, -22.12395996]])"
      ]
     },
     "execution_count": 20,
     "metadata": {},
     "output_type": "execute_result"
    }
   ],
   "source": [
    "data = np.random.randn(2,3)\n",
    "print(data)\n",
    "data * 10"
   ]
  },
  {
   "cell_type": "code",
   "execution_count": 21,
   "id": "d6b01660",
   "metadata": {},
   "outputs": [
    {
     "data": {
      "text/plain": [
       "(2, 3)"
      ]
     },
     "execution_count": 21,
     "metadata": {},
     "output_type": "execute_result"
    }
   ],
   "source": [
    "data.shape"
   ]
  },
  {
   "cell_type": "code",
   "execution_count": 22,
   "id": "35f59b39",
   "metadata": {},
   "outputs": [
    {
     "data": {
      "text/plain": [
       "dtype('float64')"
      ]
     },
     "execution_count": 22,
     "metadata": {},
     "output_type": "execute_result"
    }
   ],
   "source": [
    "data.dtype"
   ]
  },
  {
   "cell_type": "code",
   "execution_count": 24,
   "id": "ad7ac5a6",
   "metadata": {},
   "outputs": [
    {
     "data": {
      "text/plain": [
       "(2, 3)"
      ]
     },
     "execution_count": 24,
     "metadata": {},
     "output_type": "execute_result"
    }
   ],
   "source": [
    "data.shape"
   ]
  },
  {
   "cell_type": "code",
   "execution_count": 27,
   "id": "3076fd0f",
   "metadata": {},
   "outputs": [
    {
     "data": {
      "text/plain": [
       "array([[ 2.38310168e-316,  2.81617418e-322,  0.00000000e+000,\n",
       "         0.00000000e+000],\n",
       "       [ 0.00000000e+000,  1.58817677e-052,  7.17692738e-091,\n",
       "         2.90003546e-057],\n",
       "       [ 6.58732479e-043,  6.10463854e+170,  6.48224659e+170,\n",
       "         4.93432906e+257],\n",
       "       [ 5.73116149e-322, -3.30048140e-311,  2.38310084e-316,\n",
       "         3.16202013e-322],\n",
       "       [ 0.00000000e+000,  0.00000000e+000,  6.74844377e+252,\n",
       "         3.43453479e+179],\n",
       "       [ 9.22792159e-071,  2.19368559e-056,  2.59104211e+184,\n",
       "         6.60067622e-042],\n",
       "       [ 1.69177022e-052,  1.32705735e-075,  2.64429318e+180,\n",
       "        -5.92532664e-310],\n",
       "       [ 2.38407346e-316,  2.76676762e-322,  0.00000000e+000,\n",
       "         0.00000000e+000]])"
      ]
     },
     "execution_count": 27,
     "metadata": {},
     "output_type": "execute_result"
    }
   ],
   "source": [
    "arr = np.empty((8,4))\n",
    "arr"
   ]
  },
  {
   "cell_type": "code",
   "execution_count": 31,
   "id": "f1134d46",
   "metadata": {},
   "outputs": [
    {
     "data": {
      "text/plain": [
       "array([[0., 0., 0., 0.],\n",
       "       [1., 1., 1., 1.],\n",
       "       [2., 2., 2., 2.],\n",
       "       [3., 3., 3., 3.],\n",
       "       [4., 4., 4., 4.],\n",
       "       [5., 5., 5., 5.],\n",
       "       [6., 6., 6., 6.],\n",
       "       [7., 7., 7., 7.]])"
      ]
     },
     "execution_count": 31,
     "metadata": {},
     "output_type": "execute_result"
    }
   ],
   "source": [
    "for i in range(8):\n",
    "    arr[i] = i\n",
    "arr"
   ]
  },
  {
   "cell_type": "code",
   "execution_count": 32,
   "id": "afff5416",
   "metadata": {},
   "outputs": [
    {
     "data": {
      "text/plain": [
       "array([[4., 4., 4., 4.],\n",
       "       [3., 3., 3., 3.],\n",
       "       [0., 0., 0., 0.],\n",
       "       [6., 6., 6., 6.]])"
      ]
     },
     "execution_count": 32,
     "metadata": {},
     "output_type": "execute_result"
    }
   ],
   "source": [
    "arr[[4,3,0,6]]"
   ]
  },
  {
   "cell_type": "code",
   "execution_count": 35,
   "id": "e6ab8de4",
   "metadata": {},
   "outputs": [
    {
     "data": {
      "text/plain": [
       "array([[ 0,  1,  2,  3],\n",
       "       [ 4,  5,  6,  7],\n",
       "       [ 8,  9, 10, 11],\n",
       "       [12, 13, 14, 15],\n",
       "       [16, 17, 18, 19],\n",
       "       [20, 21, 22, 23],\n",
       "       [24, 25, 26, 27],\n",
       "       [28, 29, 30, 31]])"
      ]
     },
     "execution_count": 35,
     "metadata": {},
     "output_type": "execute_result"
    }
   ],
   "source": [
    "arr = np.arange(32).reshape((8,4))\n",
    "arr"
   ]
  },
  {
   "cell_type": "code",
   "execution_count": 38,
   "id": "b3f00208",
   "metadata": {},
   "outputs": [
    {
     "data": {
      "text/plain": [
       "array([[ 0,  1,  2,  3,  4],\n",
       "       [ 5,  6,  7,  8,  9],\n",
       "       [10, 11, 12, 13, 14]])"
      ]
     },
     "execution_count": 38,
     "metadata": {},
     "output_type": "execute_result"
    }
   ],
   "source": [
    "arr = np.arange(15).reshape((3,5))\n",
    "arr"
   ]
  },
  {
   "cell_type": "code",
   "execution_count": 39,
   "id": "04c8c117",
   "metadata": {},
   "outputs": [
    {
     "data": {
      "text/plain": [
       "array([[ 0,  5, 10],\n",
       "       [ 1,  6, 11],\n",
       "       [ 2,  7, 12],\n",
       "       [ 3,  8, 13],\n",
       "       [ 4,  9, 14]])"
      ]
     },
     "execution_count": 39,
     "metadata": {},
     "output_type": "execute_result"
    }
   ],
   "source": [
    "# Transposing array\n",
    "arr.T "
   ]
  },
  {
   "cell_type": "code",
   "execution_count": 41,
   "id": "99e56bdf",
   "metadata": {},
   "outputs": [
    {
     "data": {
      "text/plain": [
       "array([[ 1.41715818,  0.73037883,  1.59125039],\n",
       "       [-0.38358656, -0.17840587, -1.04959144],\n",
       "       [ 1.43193729,  0.67593702, -1.38523702],\n",
       "       [ 0.85955543,  1.24913641,  0.84989114],\n",
       "       [ 0.83955593,  0.06096721,  0.48644377],\n",
       "       [ 0.29637702,  2.7853878 , -0.23076915]])"
      ]
     },
     "execution_count": 41,
     "metadata": {},
     "output_type": "execute_result"
    }
   ],
   "source": [
    "arr = np.random.randn(6,3)\n",
    "arr"
   ]
  },
  {
   "cell_type": "code",
   "execution_count": 44,
   "id": "88bfa40e",
   "metadata": {},
   "outputs": [
    {
     "data": {
      "text/plain": [
       "array([[ 5.73744941,  4.02180818,  1.74462077],\n",
       "       [ 4.02180818, 10.34461674,  0.86164141],\n",
       "       [ 1.74462077,  0.86164141,  6.56479849]])"
      ]
     },
     "execution_count": 44,
     "metadata": {},
     "output_type": "execute_result"
    }
   ],
   "source": [
    "np.dot(arr.T, arr)"
   ]
  },
  {
   "cell_type": "code",
   "execution_count": 46,
   "id": "f697b486",
   "metadata": {},
   "outputs": [
    {
     "data": {
      "text/plain": [
       "array([[[ 0,  1,  2,  3],\n",
       "        [ 4,  5,  6,  7]],\n",
       "\n",
       "       [[ 8,  9, 10, 11],\n",
       "        [12, 13, 14, 15]]])"
      ]
     },
     "execution_count": 46,
     "metadata": {},
     "output_type": "execute_result"
    }
   ],
   "source": [
    "arr = np.arange(16).reshape((2,2,4))\n",
    "arr"
   ]
  },
  {
   "cell_type": "code",
   "execution_count": 49,
   "id": "1a00dae9",
   "metadata": {},
   "outputs": [
    {
     "data": {
      "text/plain": [
       "array([[[ 0,  1,  2,  3],\n",
       "        [ 8,  9, 10, 11]],\n",
       "\n",
       "       [[ 4,  5,  6,  7],\n",
       "        [12, 13, 14, 15]]])"
      ]
     },
     "execution_count": 49,
     "metadata": {},
     "output_type": "execute_result"
    }
   ],
   "source": [
    "arr.transpose((1,0,2))"
   ]
  },
  {
   "cell_type": "code",
   "execution_count": 50,
   "id": "6ba0d9db",
   "metadata": {},
   "outputs": [
    {
     "data": {
      "text/plain": [
       "array([[[ 0,  1,  2,  3],\n",
       "        [ 4,  5,  6,  7]],\n",
       "\n",
       "       [[ 8,  9, 10, 11],\n",
       "        [12, 13, 14, 15]]])"
      ]
     },
     "execution_count": 50,
     "metadata": {},
     "output_type": "execute_result"
    }
   ],
   "source": [
    "arr"
   ]
  },
  {
   "cell_type": "code",
   "execution_count": 53,
   "id": "b4714a8b",
   "metadata": {},
   "outputs": [
    {
     "data": {
      "text/plain": [
       "array([[[ 0,  4],\n",
       "        [ 1,  5],\n",
       "        [ 2,  6],\n",
       "        [ 3,  7]],\n",
       "\n",
       "       [[ 8, 12],\n",
       "        [ 9, 13],\n",
       "        [10, 14],\n",
       "        [11, 15]]])"
      ]
     },
     "execution_count": 53,
     "metadata": {},
     "output_type": "execute_result"
    }
   ],
   "source": [
    "arr.swapaxes(1,2)"
   ]
  },
  {
   "cell_type": "code",
   "execution_count": 57,
   "id": "43ad56e5",
   "metadata": {},
   "outputs": [
    {
     "data": {
      "text/plain": [
       "array([0, 1, 2, 3, 4, 5, 6, 7, 8, 9])"
      ]
     },
     "execution_count": 57,
     "metadata": {},
     "output_type": "execute_result"
    }
   ],
   "source": [
    "# Universal function : Element wise array function\n",
    "arr = np.arange(10)\n",
    "arr"
   ]
  },
  {
   "cell_type": "code",
   "execution_count": 58,
   "id": "8a3c281e",
   "metadata": {},
   "outputs": [
    {
     "data": {
      "text/plain": [
       "array([0.        , 1.        , 1.41421356, 1.73205081, 2.        ,\n",
       "       2.23606798, 2.44948974, 2.64575131, 2.82842712, 3.        ])"
      ]
     },
     "execution_count": 58,
     "metadata": {},
     "output_type": "execute_result"
    }
   ],
   "source": [
    "np.sqrt(arr)"
   ]
  },
  {
   "cell_type": "code",
   "execution_count": 59,
   "id": "285b1f01",
   "metadata": {},
   "outputs": [
    {
     "data": {
      "text/plain": [
       "array([1.00000000e+00, 2.71828183e+00, 7.38905610e+00, 2.00855369e+01,\n",
       "       5.45981500e+01, 1.48413159e+02, 4.03428793e+02, 1.09663316e+03,\n",
       "       2.98095799e+03, 8.10308393e+03])"
      ]
     },
     "execution_count": 59,
     "metadata": {},
     "output_type": "execute_result"
    }
   ],
   "source": [
    "np.exp(arr)"
   ]
  },
  {
   "cell_type": "code",
   "execution_count": 64,
   "id": "92ce73d6",
   "metadata": {},
   "outputs": [
    {
     "name": "stdout",
     "output_type": "stream",
     "text": [
      "[ 0.35808703  0.68543694 -0.80688792  0.93839262  0.47165059 -1.68400068\n",
      "  0.64504434  1.35046787]\n",
      "[ 0.90678331 -0.97223038 -1.42741966 -1.58385295  2.49704987  0.4345298\n",
      "  0.34155719 -0.41764919]\n",
      "[ 0.90678331  0.68543694 -0.80688792  0.93839262  2.49704987  0.4345298\n",
      "  0.64504434  1.35046787]\n"
     ]
    }
   ],
   "source": [
    "x = np.random.randn(8)\n",
    "y = np.random.randn(8)\n",
    "print(x)\n",
    "print(y)\n",
    "# Find max value from both array x & y element wise\n",
    "print(np.maximum(x,y))"
   ]
  },
  {
   "cell_type": "code",
   "execution_count": 85,
   "id": "81e57a17",
   "metadata": {},
   "outputs": [
    {
     "name": "stdout",
     "output_type": "stream",
     "text": [
      "[  2.81843426   3.41618794 -15.24412827   1.09550737   0.41515722\n",
      " -17.89155906 -10.37044584  -0.15865743  21.49399904 -12.67769987]\n",
      "[ 0.81843426  0.41618794 -0.24412827  0.09550737  0.41515722 -0.89155906\n",
      " -0.37044584 -0.15865743  0.49399904 -0.67769987] \n",
      " [  2.   3. -15.   1.   0. -17. -10.  -0.  21. -12.]\n"
     ]
    }
   ],
   "source": [
    "arr = np.random.randn(10) * 10\n",
    "print(arr)\n",
    "remainder, whole_part = np.modf(arr)\n",
    "print(remainder,'\\n', whole_part)"
   ]
  },
  {
   "cell_type": "code",
   "execution_count": 110,
   "id": "2b21bbdb",
   "metadata": {
    "scrolled": true
   },
   "outputs": [
    {
     "name": "stdout",
     "output_type": "stream",
     "text": [
      "[0 1 2 3 4 5 6 7 8 9]\n",
      "[0. 1. 2. 3. 4. 5. 6. 7. 8. 9.]\n",
      "[ 0  1  4  9 16 25 36 49 64 81]\n",
      "[1.00000000e+00 2.71828183e+00 7.38905610e+00 2.00855369e+01\n",
      " 5.45981500e+01 1.48413159e+02 4.03428793e+02 1.09663316e+03\n",
      " 2.98095799e+03 8.10308393e+03]\n",
      "[      -inf 0.         0.30103    0.47712125 0.60205999 0.69897\n",
      " 0.77815125 0.84509804 0.90308999 0.95424251]\n",
      "\n",
      "[0.00000000e+00 1.17520119e+00 3.62686041e+00 1.00178749e+01\n",
      " 2.72899172e+01 7.42032106e+01 2.01713157e+02 5.48316123e+02\n",
      " 1.49047883e+03 4.05154190e+03]\n",
      "45\n",
      "9\n",
      "[0. 1. 2. 3. 4. 5. 6. 7. 8. 9.]\n"
     ]
    },
    {
     "name": "stderr",
     "output_type": "stream",
     "text": [
      "<ipython-input-110-cecda73b43b5>:6: RuntimeWarning: divide by zero encountered in log10\n",
      "  print(np.log10(arr))\n"
     ]
    }
   ],
   "source": [
    "arr = np.arange(10)\n",
    "print(arr)\n",
    "print(np.fabs(arr))\n",
    "print(np.square(arr))\n",
    "print(np.exp(arr))\n",
    "print(np.log10(arr))\n",
    "print()\n",
    "print(np.sinh(arr))\n",
    "print(np.sum(arr))\n",
    "print(np.max(arr))\n",
    "print(np.rint(arr))   # Round elements to nearest integers"
   ]
  },
  {
   "cell_type": "code",
   "execution_count": 8,
   "id": "a8260006",
   "metadata": {},
   "outputs": [
    {
     "name": "stdout",
     "output_type": "stream",
     "text": [
      "[[-5.   -4.99 -4.98 ...  4.97  4.98  4.99]\n",
      " [-5.   -4.99 -4.98 ...  4.97  4.98  4.99]\n",
      " [-5.   -4.99 -4.98 ...  4.97  4.98  4.99]\n",
      " ...\n",
      " [-5.   -4.99 -4.98 ...  4.97  4.98  4.99]\n",
      " [-5.   -4.99 -4.98 ...  4.97  4.98  4.99]\n",
      " [-5.   -4.99 -4.98 ...  4.97  4.98  4.99]] \n",
      " \n",
      " [[-5.   -5.   -5.   ... -5.   -5.   -5.  ]\n",
      " [-4.99 -4.99 -4.99 ... -4.99 -4.99 -4.99]\n",
      " [-4.98 -4.98 -4.98 ... -4.98 -4.98 -4.98]\n",
      " ...\n",
      " [ 4.97  4.97  4.97 ...  4.97  4.97  4.97]\n",
      " [ 4.98  4.98  4.98 ...  4.98  4.98  4.98]\n",
      " [ 4.99  4.99  4.99 ...  4.99  4.99  4.99]]\n",
      "\n"
     ]
    },
    {
     "data": {
      "text/plain": [
       "array([[7.07106781, 7.06400028, 7.05693985, ..., 7.04988652, 7.05693985,\n",
       "        7.06400028],\n",
       "       [7.06400028, 7.05692568, 7.04985815, ..., 7.04279774, 7.04985815,\n",
       "        7.05692568],\n",
       "       [7.05693985, 7.04985815, 7.04278354, ..., 7.03571603, 7.04278354,\n",
       "        7.04985815],\n",
       "       ...,\n",
       "       [7.04988652, 7.04279774, 7.03571603, ..., 7.0286414 , 7.03571603,\n",
       "        7.04279774],\n",
       "       [7.05693985, 7.04985815, 7.04278354, ..., 7.03571603, 7.04278354,\n",
       "        7.04985815],\n",
       "       [7.06400028, 7.05692568, 7.04985815, ..., 7.04279774, 7.04985815,\n",
       "        7.05692568]])"
      ]
     },
     "execution_count": 8,
     "metadata": {},
     "output_type": "execute_result"
    }
   ],
   "source": [
    "points = np.arange(-5, 5, 0.01) # 1000 equally points\n",
    "points\n",
    "xs, ys = np.meshgrid(points, points)\n",
    "print(xs, '\\n', '\\n', ys)\n",
    "print()\n",
    "z = np.sqrt(xs ** 2 + ys ** 2)\n",
    "z"
   ]
  },
  {
   "cell_type": "code",
   "execution_count": 12,
   "id": "08cc17b0",
   "metadata": {},
   "outputs": [
    {
     "name": "stdout",
     "output_type": "stream",
     "text": [
      "[[-1.11888481 -2.18138535  2.29583088 -0.58947198]\n",
      " [-0.15159246 -0.47776924  0.44863082  1.11641918]\n",
      " [-0.80793525  1.77499562  0.05620275 -0.61914053]\n",
      " [ 1.71737546 -1.06691468 -0.33300037  0.64969774]\n",
      " [ 0.98256768 -0.89836398  0.20186522 -0.13522755]]\n",
      "\n",
      "0.043194957882498795\n",
      "\n",
      "[ 0.12430612 -0.56988752  0.53390586  0.08445537]\n",
      "\n",
      "[-1.59391126  0.9356883   0.40412259  0.96715815  0.15084137]\n",
      "\n",
      "0.8638991576499759\n"
     ]
    }
   ],
   "source": [
    "arr = np.random.randn(5, 4)\n",
    "print(arr)\n",
    "print()\n",
    "print(arr.mean())\n",
    "print()\n",
    "print(arr.mean(axis=0))  # Compute means down the rows\n",
    "print()\n",
    "print(arr.sum(axis=1))   # Compute sum across the columns\n",
    "print()\n",
    "print(arr.sum())\n"
   ]
  },
  {
   "cell_type": "code",
   "execution_count": 13,
   "id": "265f1401",
   "metadata": {},
   "outputs": [
    {
     "name": "stdout",
     "output_type": "stream",
     "text": [
      "[0 1 2 3 4 5 6 7 8 9]\n",
      "[ 0  1  3  6 10 15 21 28 36 45]\n",
      "[0 0 0 0 0 0 0 0 0 0]\n"
     ]
    }
   ],
   "source": [
    "arr = np.arange(10)\n",
    "print(arr)\n",
    "print(arr.cumsum())\n",
    "print(arr.cumprod())"
   ]
  },
  {
   "cell_type": "code",
   "execution_count": 14,
   "id": "ad0657f7",
   "metadata": {},
   "outputs": [
    {
     "name": "stdout",
     "output_type": "stream",
     "text": [
      "[[-0.28556026 -1.90910047  2.01119242]\n",
      " [ 0.06333539  0.05217539  0.10182441]\n",
      " [ 0.72924475 -1.63681681  0.41115747]]\n",
      "\n",
      "[[-0.28556026 -1.90910047  2.01119242]\n",
      " [-0.22222487 -1.85692508  2.11301683]\n",
      " [ 0.50701987 -3.49374189  2.52417429]]\n",
      "[[-2.85560264e-01  5.45163233e-01  1.09642816e+00]\n",
      " [ 6.33353892e-02  3.30454845e-03  3.36483693e-04]\n",
      " [ 7.29244747e-01 -1.19364006e+00 -4.90774023e-01]]\n"
     ]
    }
   ],
   "source": [
    "arr = np.random.randn(3,3)\n",
    "print(arr)\n",
    "print()\n",
    "print(arr.cumsum(axis=0))\n",
    "print(arr.cumprod(axis=1))"
   ]
  },
  {
   "cell_type": "code",
   "execution_count": 21,
   "id": "6f501e70",
   "metadata": {},
   "outputs": [
    {
     "name": "stdout",
     "output_type": "stream",
     "text": [
      "[False  True False  True  True False  True  True  True  True  True False\n",
      "  True  True False  True False False False False  True False False  True\n",
      " False False  True False  True False False False  True False False False\n",
      " False False  True False False False  True  True  True  True  True False\n",
      " False  True  True False  True False False False False False  True  True\n",
      "  True False  True False False  True False  True False False False False\n",
      " False  True  True False False False False False  True False False False\n",
      "  True  True  True False  True  True False False False  True  True False\n",
      "  True  True False False]\n",
      "43\n"
     ]
    }
   ],
   "source": [
    "# Boolean array methods\n",
    "\n",
    "arr = np.random.randn(100)\n",
    "print(arr > 0)          # Find positive no.\n",
    "print((arr > 0).sum())  # Total no. of positive values\n"
   ]
  },
  {
   "cell_type": "code",
   "execution_count": 24,
   "id": "6c3753e0",
   "metadata": {},
   "outputs": [
    {
     "name": "stdout",
     "output_type": "stream",
     "text": [
      "[-0.10810604 -1.07135709 -1.01181601 -0.5120754   2.05434132 -0.80579826]\n"
     ]
    }
   ],
   "source": [
    "# Sorting\n",
    "\n",
    "arr = np.random.randn(6)\n",
    "print(arr)\n",
    "arr.sort()"
   ]
  },
  {
   "cell_type": "code",
   "execution_count": 37,
   "id": "abbc5765",
   "metadata": {},
   "outputs": [
    {
     "name": "stdout",
     "output_type": "stream",
     "text": [
      "[[ 1.09551496  1.47638849  0.0030779 ]\n",
      " [ 1.4062741  -0.49509165 -0.78714725]\n",
      " [ 0.60864783  1.43233351  0.08725325]\n",
      " [ 1.14720575  0.66446555 -0.64075396]\n",
      " [ 1.67573907  0.55365529  0.83685359]]\n"
     ]
    },
    {
     "data": {
      "text/plain": [
       "array([[ 0.0030779 ,  1.09551496,  1.47638849],\n",
       "       [-0.78714725, -0.49509165,  1.4062741 ],\n",
       "       [ 0.08725325,  0.60864783,  1.43233351],\n",
       "       [-0.64075396,  0.66446555,  1.14720575],\n",
       "       [ 0.55365529,  0.83685359,  1.67573907]])"
      ]
     },
     "execution_count": 37,
     "metadata": {},
     "output_type": "execute_result"
    }
   ],
   "source": [
    "arr = np.random.randn(5, 3)\n",
    "print(arr)\n",
    "arr.sort(1)\n",
    "arr"
   ]
  },
  {
   "cell_type": "code",
   "execution_count": 45,
   "id": "a612e679",
   "metadata": {},
   "outputs": [
    {
     "data": {
      "text/plain": [
       "-1.5441940103265224"
      ]
     },
     "execution_count": 45,
     "metadata": {},
     "output_type": "execute_result"
    }
   ],
   "source": [
    "large_arr = np.random.randn(1000)\n",
    "large_arr.sort()\n",
    "large_arr[int(0.05 * len(large_arr))]    # Compute the quantiles of an array"
   ]
  },
  {
   "cell_type": "code",
   "execution_count": 49,
   "id": "69605dd8",
   "metadata": {},
   "outputs": [
    {
     "data": {
      "text/plain": [
       "array(['Bob', 'Joe', 'Will'], dtype='<U4')"
      ]
     },
     "execution_count": 49,
     "metadata": {},
     "output_type": "execute_result"
    }
   ],
   "source": [
    "# UNique & other set logic\n",
    "names = np. array(['Bob' , 'Joe' , 'Will' , 'Bob' , 'Will' , 'Joe' , 'Joe' ])\n",
    "np.unique(names)"
   ]
  },
  {
   "cell_type": "code",
   "execution_count": 50,
   "id": "ce0e1a9a",
   "metadata": {},
   "outputs": [
    {
     "data": {
      "text/plain": [
       "['Bob', 'Joe', 'Will']"
      ]
     },
     "execution_count": 50,
     "metadata": {},
     "output_type": "execute_result"
    }
   ],
   "source": [
    "sorted(set(names))"
   ]
  },
  {
   "cell_type": "code",
   "execution_count": 52,
   "id": "a523bb99",
   "metadata": {},
   "outputs": [
    {
     "name": "stdout",
     "output_type": "stream",
     "text": [
      "[0 1 2 3 4 5 6 7 8 9]\n"
     ]
    }
   ],
   "source": [
    "# File input & output with arrays. Numpy either save in binary format or text format both \n",
    "# np.save & np.load are two built-in function for saving & loading the data\n",
    "\n",
    "# Binary format file extension .npy\n",
    "arr =np.arange(10)\n",
    "print(arr)\n",
    "np.save('some_array', arr)"
   ]
  },
  {
   "cell_type": "code",
   "execution_count": 55,
   "id": "de4a6de3",
   "metadata": {},
   "outputs": [
    {
     "data": {
      "text/plain": [
       "array([0, 1, 2, 3, 4, 5, 6, 7, 8, 9])"
      ]
     },
     "execution_count": 55,
     "metadata": {},
     "output_type": "execute_result"
    }
   ],
   "source": [
    "# Load Array\n",
    "np.load('some_array.npy')"
   ]
  },
  {
   "cell_type": "code",
   "execution_count": 62,
   "id": "e8f9d0b8",
   "metadata": {},
   "outputs": [
    {
     "name": "stdout",
     "output_type": "stream",
     "text": [
      "[[1. 2. 3.]\n",
      " [4. 5. 6.]] \n",
      " [[ 6. 23.]\n",
      " [-1.  7.]\n",
      " [ 8.  9.]]\n"
     ]
    }
   ],
   "source": [
    "# Linear Algebra,\n",
    "# like matrix multiplication, decompositions, determinants, and other\n",
    "# square matrix math, is an important part of any array library\n",
    "\n",
    "x = np. array([[1. , 2. , 3. ], [4. , 5. , 6. ]])\n",
    "y = np. array([[6. , 23. ], [- 1, 7], [8, 9]])\n",
    "print(x, '\\n', y)"
   ]
  },
  {
   "cell_type": "code",
   "execution_count": 64,
   "id": "7ccc712e",
   "metadata": {},
   "outputs": [
    {
     "name": "stdout",
     "output_type": "stream",
     "text": [
      "[[ 28.  64.]\n",
      " [ 67. 181.]]\n",
      "[[ 28.  64.]\n",
      " [ 67. 181.]]\n"
     ]
    }
   ],
   "source": [
    "# both commands are same for matrix product\n",
    "print(x.dot(y))\n",
    "print(np.dot(x,y))"
   ]
  },
  {
   "cell_type": "code",
   "execution_count": 73,
   "id": "6011600a",
   "metadata": {},
   "outputs": [
    {
     "name": "stdout",
     "output_type": "stream",
     "text": [
      "[[ 1.20956434  0.68063567 -0.68997952  0.09534682 -0.50905702]\n",
      " [-0.81188874 -2.31236707 -1.46447041  0.37081121  0.90682668]\n",
      " [ 1.02757933  1.4092722   0.11487732 -0.69601641 -0.54490204]\n",
      " [ 2.4537724  -0.65796875 -1.78240688 -0.18124741  0.24747203]\n",
      " [ 0.03161821  0.62870179  0.07073288  0.92410691 -0.71949896]]\n",
      "\n",
      "[[ 9.20012719  2.55416926 -3.89892639 -1.31646269 -1.32741889]\n",
      " [ 2.55416926  8.62454332  4.2958998  -1.07318896 -3.82649296]\n",
      " [-3.89892639  4.2958998   5.81591954 -0.30036452 -1.53136689]\n",
      " [-1.31646269 -1.07318896 -0.30036452  1.51785503 -0.04276234]\n",
      " [-1.32741889 -3.82649296 -1.53136689 -0.04276234  1.95731307]]\n",
      "\n",
      "[[   8.55358789  -59.00544389   23.45267234  -32.24905629  -91.90871053]\n",
      " [ -59.00544389  456.49111537 -173.1838219   257.66767216  722.54439986]\n",
      " [  23.45267234 -173.1838219    67.15162629  -96.48866156 -272.23414894]\n",
      " [ -32.24905629  257.66767216  -96.48866156  147.31622354  409.58985183]\n",
      " [ -91.90871053  722.54439986 -272.23414894  409.58985183 1146.69154839]]\n",
      "\n",
      "[[ 1.00000000e+00 -5.95745224e-14  4.43321757e-15  3.06826883e-14\n",
      "  -6.25073028e-14]\n",
      " [ 1.88053156e-14  1.00000000e+00  1.43862168e-13 -2.43468692e-13\n",
      "  -1.94270294e-13]\n",
      " [ 4.03794075e-14 -3.17797395e-14  1.00000000e+00 -1.98604151e-13\n",
      "  -3.38185062e-13]\n",
      " [-3.44905170e-15  1.30099308e-14  6.55927387e-16  1.00000000e+00\n",
      "   5.56519292e-14]\n",
      " [-2.44768505e-14  1.60919675e-13 -1.22500525e-13  2.65650070e-13\n",
      "   1.00000000e+00]]\n",
      "\n",
      "[[-0.87774502  0.03919686 -0.25864661 -0.39633602 -0.06361577]\n",
      " [-0.24368243 -0.76591871  0.19683854  0.25519356  0.50011823]\n",
      " [ 0.37197999 -0.54442636 -0.52316254 -0.50598992 -0.1884303 ]\n",
      " [ 0.12559811  0.06384384  0.61731746 -0.72020442  0.28350279]\n",
      " [ 0.12664339  0.33370052 -0.48946566 -0.05544187  0.79369703]]\n",
      "\n",
      "[[-1.04815487e+01 -3.36496082e+00  4.30717091e+00  1.49053043e+00\n",
      "   1.77045648e+00]\n",
      " [ 0.00000000e+00 -1.01898040e+01 -7.13966999e+00  1.01653654e+00\n",
      "   4.36289468e+00]\n",
      " [ 0.00000000e+00  0.00000000e+00 -6.24497285e-01  1.24432224e+00\n",
      "  -5.93150544e-01]\n",
      " [ 0.00000000e+00  0.00000000e+00  0.00000000e+00 -6.90922978e-01\n",
      "   2.46744296e-01]\n",
      " [ 0.00000000e+00  0.00000000e+00  0.00000000e+00  0.00000000e+00\n",
      "   6.92162626e-04]]\n"
     ]
    }
   ],
   "source": [
    "# numpy.linalg has a standard set of matrix decompositions and things like inverse\n",
    "# and determinant\n",
    "from numpy.linalg import inv, qr\n",
    "\n",
    "x = np.random.randn(5, 5)\n",
    "print(x)\n",
    "print()\n",
    "mat = x.T.dot(x)\n",
    "print(mat)\n",
    "print()\n",
    "print(inv(mat))\n",
    "print()\n",
    "print(mat.dot(inv(mat)))\n",
    "print()\n",
    "q, r = qr(mat)\n",
    "print(q)\n",
    "print()\n",
    "print(r)"
   ]
  },
  {
   "cell_type": "code",
   "execution_count": 77,
   "id": "a2845dc4",
   "metadata": {},
   "outputs": [
    {
     "data": {
      "text/plain": [
       "array([[-0.49626756,  0.43454483, -0.11818383,  2.21459754],\n",
       "       [-1.59636524,  1.29671379, -1.79956604,  0.58946291],\n",
       "       [-0.13400013,  0.43524167, -0.26082716,  0.5547534 ],\n",
       "       [-0.82281293, -0.58065662,  0.60203773, -1.24206497]])"
      ]
     },
     "execution_count": 77,
     "metadata": {},
     "output_type": "execute_result"
    }
   ],
   "source": [
    "# Pseudorandom Number Generation\n",
    "# generate the set of random no. in standard normal distribution\n",
    "samples = np.random.normal(size=(4, 4))   \n",
    "samples"
   ]
  },
  {
   "cell_type": "code",
   "execution_count": 79,
   "id": "2649448b",
   "metadata": {},
   "outputs": [
    {
     "name": "stdout",
     "output_type": "stream",
     "text": [
      "1.05 s ± 21.4 ms per loop (mean ± std. dev. of 7 runs, 1 loop each)\n",
      "37.1 ms ± 2.68 ms per loop (mean ± std. dev. of 7 runs, 10 loops each)\n"
     ]
    }
   ],
   "source": [
    "from random import normalvariate\n",
    "N = 1000000\n",
    "%timeit samples = [normalvariate(0, 1) for _ in range(N)]\n",
    "\n",
    "%timeit np. random. normal(size=N)"
   ]
  },
  {
   "cell_type": "code",
   "execution_count": 94,
   "id": "739fe4b6",
   "metadata": {},
   "outputs": [
    {
     "data": {
      "text/plain": [
       "[<matplotlib.lines.Line2D at 0xb33f8e0>]"
      ]
     },
     "execution_count": 94,
     "metadata": {},
     "output_type": "execute_result"
    },
    {
     "data": {
      "image/png": "[encoded data removed]",
      "text/plain": [
       "<Figure size 432x288 with 1 Axes>"
      ]
     },
     "metadata": {
      "needs_background": "light"
     },
     "output_type": "display_data"
    }
   ],
   "source": [
    "import random\n",
    "import matplotlib. pyplot as plt\n",
    "position = 0\n",
    "walk = [position]\n",
    "steps = 100000\n",
    "for i in range(steps):\n",
    "    step = 1 if random.randint(0,1) else -1\n",
    "    position += step\n",
    "    walk.append(position)\n",
    "    \n",
    "plt.plot(walk[:100])"
   ]
  },
  {
   "cell_type": "code",
   "execution_count": null,
   "id": "02880acf",
   "metadata": {},
   "outputs": [],
   "source": []
  }
 ],
 "metadata": {
  "kernelspec": {
   "display_name": "Python 3",
   "language": "python",
   "name": "python3"
  },
  "language_info": {
   "codemirror_mode": {
    "name": "ipython",
    "version": 3
   },
   "file_extension": ".py",
   "mimetype": "text/x-python",
   "name": "python",
   "nbconvert_exporter": "python",
   "pygments_lexer": "ipython3",
   "version": "3.8.8"
  }
 },
 "nbformat": 4,
 "nbformat_minor": 5
}
